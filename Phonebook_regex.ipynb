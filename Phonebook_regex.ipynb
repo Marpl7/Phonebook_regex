{
 "cells": [
  {
   "cell_type": "code",
   "execution_count": null,
   "metadata": {},
   "outputs": [],
   "source": [
    "from pprint import pprint\n",
    "import re\n",
    "\n",
    "# читаем адресную книгу в формате CSV в список contacts_list\n",
    "import csv\n",
    "with open(\"phonebook_raw.csv\", encoding='utf-8') as f:\n",
    "  rows = csv.reader(f, delimiter=\",\")\n",
    "  contacts_list = list(rows)\n",
    "# pprint(contacts_list)\n"
   ]
  },
  {
   "cell_type": "code",
   "execution_count": null,
   "metadata": {},
   "outputs": [],
   "source": [
    "# приводим номер телефона к требуемому формату и убирем ненужную информацию\n",
    "new_list = []\n",
    "pattern = re.compile(r'(\\+7|8)?\\s*\\(*(\\d{3})\\)*?\\s*\\-*(\\d{3})\\-*(\\d{2})\\-*(\\d{2})?\\s*\\(*([а-я]+\\.)*\\s*(\\d{4})*\\)*')\n",
    "\n",
    "for line in contacts_list:\n",
    "    fio = list((line[0].split(' ') + line[1].split(' ') + line[2].split(' ')))\n",
    "    line[5] = pattern.sub(r\"+7(\\2)\\3-\\4-\\5 \\6\\7\", line[5])\n",
    "    line = [fio[0] +' ' + fio[1], fio[2], line[3], line[5], line[6]]\n",
    "    new_list.append(line)\n",
    "   \n",
    "new_list = sorted(new_list)\n"
   ]
  },
  {
   "cell_type": "code",
   "execution_count": null,
   "metadata": {},
   "outputs": [],
   "source": [
    "# объединяем дублирующиеся записи\n",
    "final_list = [new_list[0][0].split(' ') + new_list[0][1:]]\n",
    "j = len(new_list)\n",
    "\n",
    "while j != 1:\n",
    "    if j>3 and new_list[1][0] == new_list[2][0]:\n",
    "        j -= 2\n",
    "        new_line = new_list[1][0].split(' ')\n",
    "        for i in range(2,5):\n",
    "            if new_list[1][i] != '':\n",
    "                new_line.append(new_list[1][i])\n",
    "            else:\n",
    "                new_line.append(new_list[2][i])\n",
    "            \n",
    "        new_list.remove(new_list[1])\n",
    "        new_list.remove(new_list[1])\n",
    "        \n",
    "    else:\n",
    "        j -= 1\n",
    "        new_line = new_list[1][0].split(' ')+ new_list[1][1:]\n",
    "        new_list.remove(new_list[1])\n",
    "        \n",
    "    \n",
    "                        \n",
    "    final_list.append(new_line)\n"
   ]
  },
  {
   "cell_type": "code",
   "execution_count": null,
   "metadata": {},
   "outputs": [],
   "source": [
    "# сохраняем файл в формате CSV\n",
    "with open(\"phonebook.csv\", \"w\", encoding='utf-8') as f:\n",
    "  datawriter = csv.writer(f, delimiter=',')\n",
    "  # Вместо contacts_list подставьте свой список\n",
    "  datawriter.writerows(final_list)"
   ]
  },
  {
   "cell_type": "code",
   "execution_count": null,
   "metadata": {},
   "outputs": [],
   "source": [
    "with open(\"phonebook.csv\", encoding='utf-8') as f:\n",
    "  rows = csv.reader(f, delimiter=\",\")\n",
    "  contacts_list = list(rows)\n",
    "pprint(contacts_list)"
   ]
  }
 ],
 "metadata": {
  "kernelspec": {
   "display_name": "Python 3",
   "language": "python",
   "name": "python3"
  },
  "language_info": {
   "codemirror_mode": {
    "name": "ipython",
    "version": 3
   },
   "file_extension": ".py",
   "mimetype": "text/x-python",
   "name": "python",
   "nbconvert_exporter": "python",
   "pygments_lexer": "ipython3",
   "version": "3.7.6"
  }
 },
 "nbformat": 4,
 "nbformat_minor": 4
}
